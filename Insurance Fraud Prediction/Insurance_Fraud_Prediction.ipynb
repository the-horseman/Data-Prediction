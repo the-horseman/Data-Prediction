{
  "cells": [
    {
      "cell_type": "code",
      "execution_count": 1,
      "metadata": {
        "colab": {
          "base_uri": "https://localhost:8080/",
          "height": 34
        },
        "id": "bBydRB_mOIB1",
        "outputId": "1f319d66-62f1-48e5-9909-93ff90948aec"
      },
      "outputs": [
        {
          "data": {
            "text/plain": [
              "(1000, 40)"
            ]
          },
          "execution_count": 1,
          "metadata": {},
          "output_type": "execute_result"
        }
      ],
      "source": [
        "import numpy as np\n",
        "from sklearn.ensemble import RandomForestClassifier\n",
        "from sklearn.linear_model import LogisticRegression\n",
        "from sklearn.linear_model import SGDClassifier\n",
        "from sklearn.neighbors import KNeighborsClassifier\n",
        "from sklearn.tree import DecisionTreeClassifier\n",
        "from sklearn.metrics import classification_report\n",
        "\n",
        "import pandas as pd\n",
        "\n",
        "import seaborn as seaborninstance\n",
        "from sklearn.model_selection import train_test_split\n",
        "\n",
        "dataset = pd.read_csv(\"datasets_45152_82501_insurance_claims (1) (1).csv\")\n",
        "\n",
        "dataset.shape"
      ]
    },
    {
      "cell_type": "code",
      "execution_count": 2,
      "metadata": {
        "colab": {
          "base_uri": "https://localhost:8080/",
          "height": 730
        },
        "id": "MGDR5NDBOOpD",
        "outputId": "bf9d9413-23f7-4051-82e4-6e44022a4347"
      },
      "outputs": [
        {
          "data": {
            "text/plain": [
              "months_as_customer             False\n",
              "age                            False\n",
              "policy_number                  False\n",
              "policy_bind_date               False\n",
              "policy_state                   False\n",
              "policy_csl                     False\n",
              "policy_deductable              False\n",
              "policy_annual_premium          False\n",
              "umbrella_limit                 False\n",
              "insured_zip                    False\n",
              "insured_sex                    False\n",
              "insured_education_level        False\n",
              "insured_occupation             False\n",
              "insured_hobbies                False\n",
              "insured_relationship           False\n",
              "capital-gains                  False\n",
              "capital-loss                   False\n",
              "incident_date                  False\n",
              "incident_type                  False\n",
              "collision_type                 False\n",
              "incident_severity              False\n",
              "authorities_contacted          False\n",
              "incident_state                 False\n",
              "incident_city                  False\n",
              "incident_location              False\n",
              "incident_hour_of_the_day       False\n",
              "number_of_vehicles_involved    False\n",
              "property_damage                False\n",
              "bodily_injuries                False\n",
              "witnesses                      False\n",
              "police_report_available        False\n",
              "total_claim_amount             False\n",
              "injury_claim                   False\n",
              "property_claim                 False\n",
              "vehicle_claim                  False\n",
              "auto_make                      False\n",
              "auto_model                     False\n",
              "auto_year                      False\n",
              "fraud_reported                 False\n",
              "_c39                            True\n",
              "dtype: bool"
            ]
          },
          "execution_count": 2,
          "metadata": {},
          "output_type": "execute_result"
        }
      ],
      "source": [
        "dataset.isnull().any()"
      ]
    },
    {
      "cell_type": "code",
      "execution_count": 3,
      "metadata": {
        "colab": {
          "base_uri": "https://localhost:8080/",
          "height": 331
        },
        "id": "Tv4XttIzOQbY",
        "outputId": "b3806ad1-6f31-4f8d-9e46-0b4b9e5d6bd4"
      },
      "outputs": [
        {
          "data": {
            "text/html": [
              "<div>\n",
              "<style scoped>\n",
              "    .dataframe tbody tr th:only-of-type {\n",
              "        vertical-align: middle;\n",
              "    }\n",
              "\n",
              "    .dataframe tbody tr th {\n",
              "        vertical-align: top;\n",
              "    }\n",
              "\n",
              "    .dataframe thead th {\n",
              "        text-align: right;\n",
              "    }\n",
              "</style>\n",
              "<table border=\"1\" class=\"dataframe\">\n",
              "  <thead>\n",
              "    <tr style=\"text-align: right;\">\n",
              "      <th></th>\n",
              "      <th>months_as_customer</th>\n",
              "      <th>age</th>\n",
              "      <th>policy_number</th>\n",
              "      <th>policy_deductable</th>\n",
              "      <th>policy_annual_premium</th>\n",
              "      <th>umbrella_limit</th>\n",
              "      <th>insured_zip</th>\n",
              "      <th>capital-gains</th>\n",
              "      <th>capital-loss</th>\n",
              "      <th>incident_hour_of_the_day</th>\n",
              "      <th>number_of_vehicles_involved</th>\n",
              "      <th>bodily_injuries</th>\n",
              "      <th>witnesses</th>\n",
              "      <th>total_claim_amount</th>\n",
              "      <th>injury_claim</th>\n",
              "      <th>property_claim</th>\n",
              "      <th>vehicle_claim</th>\n",
              "      <th>auto_year</th>\n",
              "      <th>fraud_reported</th>\n",
              "      <th>_c39</th>\n",
              "    </tr>\n",
              "  </thead>\n",
              "  <tbody>\n",
              "    <tr>\n",
              "      <th>count</th>\n",
              "      <td>1000.000000</td>\n",
              "      <td>1000.000000</td>\n",
              "      <td>1000.000000</td>\n",
              "      <td>1000.000000</td>\n",
              "      <td>1000.000000</td>\n",
              "      <td>1.000000e+03</td>\n",
              "      <td>1000.000000</td>\n",
              "      <td>1000.000000</td>\n",
              "      <td>1000.000000</td>\n",
              "      <td>1000.000000</td>\n",
              "      <td>1000.00000</td>\n",
              "      <td>1000.000000</td>\n",
              "      <td>1000.000000</td>\n",
              "      <td>1000.00000</td>\n",
              "      <td>1000.000000</td>\n",
              "      <td>1000.000000</td>\n",
              "      <td>1000.000000</td>\n",
              "      <td>1000.000000</td>\n",
              "      <td>1000.000000</td>\n",
              "      <td>0.0</td>\n",
              "    </tr>\n",
              "    <tr>\n",
              "      <th>mean</th>\n",
              "      <td>203.954000</td>\n",
              "      <td>38.948000</td>\n",
              "      <td>546238.648000</td>\n",
              "      <td>1136.000000</td>\n",
              "      <td>1256.406150</td>\n",
              "      <td>1.101000e+06</td>\n",
              "      <td>501214.488000</td>\n",
              "      <td>25126.100000</td>\n",
              "      <td>-26793.700000</td>\n",
              "      <td>11.644000</td>\n",
              "      <td>1.83900</td>\n",
              "      <td>0.992000</td>\n",
              "      <td>1.487000</td>\n",
              "      <td>52761.94000</td>\n",
              "      <td>7433.420000</td>\n",
              "      <td>7399.570000</td>\n",
              "      <td>37928.950000</td>\n",
              "      <td>2005.103000</td>\n",
              "      <td>0.247000</td>\n",
              "      <td>NaN</td>\n",
              "    </tr>\n",
              "    <tr>\n",
              "      <th>std</th>\n",
              "      <td>115.113174</td>\n",
              "      <td>9.140287</td>\n",
              "      <td>257063.005276</td>\n",
              "      <td>611.864673</td>\n",
              "      <td>244.167395</td>\n",
              "      <td>2.297407e+06</td>\n",
              "      <td>71701.610941</td>\n",
              "      <td>27872.187708</td>\n",
              "      <td>28104.096686</td>\n",
              "      <td>6.951373</td>\n",
              "      <td>1.01888</td>\n",
              "      <td>0.820127</td>\n",
              "      <td>1.111335</td>\n",
              "      <td>26401.53319</td>\n",
              "      <td>4880.951853</td>\n",
              "      <td>4824.726179</td>\n",
              "      <td>18886.252893</td>\n",
              "      <td>6.015861</td>\n",
              "      <td>0.431483</td>\n",
              "      <td>NaN</td>\n",
              "    </tr>\n",
              "    <tr>\n",
              "      <th>min</th>\n",
              "      <td>0.000000</td>\n",
              "      <td>19.000000</td>\n",
              "      <td>100804.000000</td>\n",
              "      <td>500.000000</td>\n",
              "      <td>433.330000</td>\n",
              "      <td>-1.000000e+06</td>\n",
              "      <td>430104.000000</td>\n",
              "      <td>0.000000</td>\n",
              "      <td>-111100.000000</td>\n",
              "      <td>0.000000</td>\n",
              "      <td>1.00000</td>\n",
              "      <td>0.000000</td>\n",
              "      <td>0.000000</td>\n",
              "      <td>100.00000</td>\n",
              "      <td>0.000000</td>\n",
              "      <td>0.000000</td>\n",
              "      <td>70.000000</td>\n",
              "      <td>1995.000000</td>\n",
              "      <td>0.000000</td>\n",
              "      <td>NaN</td>\n",
              "    </tr>\n",
              "    <tr>\n",
              "      <th>25%</th>\n",
              "      <td>115.750000</td>\n",
              "      <td>32.000000</td>\n",
              "      <td>335980.250000</td>\n",
              "      <td>500.000000</td>\n",
              "      <td>1089.607500</td>\n",
              "      <td>0.000000e+00</td>\n",
              "      <td>448404.500000</td>\n",
              "      <td>0.000000</td>\n",
              "      <td>-51500.000000</td>\n",
              "      <td>6.000000</td>\n",
              "      <td>1.00000</td>\n",
              "      <td>0.000000</td>\n",
              "      <td>1.000000</td>\n",
              "      <td>41812.50000</td>\n",
              "      <td>4295.000000</td>\n",
              "      <td>4445.000000</td>\n",
              "      <td>30292.500000</td>\n",
              "      <td>2000.000000</td>\n",
              "      <td>0.000000</td>\n",
              "      <td>NaN</td>\n",
              "    </tr>\n",
              "    <tr>\n",
              "      <th>50%</th>\n",
              "      <td>199.500000</td>\n",
              "      <td>38.000000</td>\n",
              "      <td>533135.000000</td>\n",
              "      <td>1000.000000</td>\n",
              "      <td>1257.200000</td>\n",
              "      <td>0.000000e+00</td>\n",
              "      <td>466445.500000</td>\n",
              "      <td>0.000000</td>\n",
              "      <td>-23250.000000</td>\n",
              "      <td>12.000000</td>\n",
              "      <td>1.00000</td>\n",
              "      <td>1.000000</td>\n",
              "      <td>1.000000</td>\n",
              "      <td>58055.00000</td>\n",
              "      <td>6775.000000</td>\n",
              "      <td>6750.000000</td>\n",
              "      <td>42100.000000</td>\n",
              "      <td>2005.000000</td>\n",
              "      <td>0.000000</td>\n",
              "      <td>NaN</td>\n",
              "    </tr>\n",
              "    <tr>\n",
              "      <th>75%</th>\n",
              "      <td>276.250000</td>\n",
              "      <td>44.000000</td>\n",
              "      <td>759099.750000</td>\n",
              "      <td>2000.000000</td>\n",
              "      <td>1415.695000</td>\n",
              "      <td>0.000000e+00</td>\n",
              "      <td>603251.000000</td>\n",
              "      <td>51025.000000</td>\n",
              "      <td>0.000000</td>\n",
              "      <td>17.000000</td>\n",
              "      <td>3.00000</td>\n",
              "      <td>2.000000</td>\n",
              "      <td>2.000000</td>\n",
              "      <td>70592.50000</td>\n",
              "      <td>11305.000000</td>\n",
              "      <td>10885.000000</td>\n",
              "      <td>50822.500000</td>\n",
              "      <td>2010.000000</td>\n",
              "      <td>0.000000</td>\n",
              "      <td>NaN</td>\n",
              "    </tr>\n",
              "    <tr>\n",
              "      <th>max</th>\n",
              "      <td>479.000000</td>\n",
              "      <td>64.000000</td>\n",
              "      <td>999435.000000</td>\n",
              "      <td>2000.000000</td>\n",
              "      <td>2047.590000</td>\n",
              "      <td>1.000000e+07</td>\n",
              "      <td>620962.000000</td>\n",
              "      <td>100500.000000</td>\n",
              "      <td>0.000000</td>\n",
              "      <td>23.000000</td>\n",
              "      <td>4.00000</td>\n",
              "      <td>2.000000</td>\n",
              "      <td>3.000000</td>\n",
              "      <td>114920.00000</td>\n",
              "      <td>21450.000000</td>\n",
              "      <td>23670.000000</td>\n",
              "      <td>79560.000000</td>\n",
              "      <td>2015.000000</td>\n",
              "      <td>1.000000</td>\n",
              "      <td>NaN</td>\n",
              "    </tr>\n",
              "  </tbody>\n",
              "</table>\n",
              "</div>"
            ],
            "text/plain": [
              "       months_as_customer          age  policy_number  policy_deductable  \\\n",
              "count         1000.000000  1000.000000    1000.000000        1000.000000   \n",
              "mean           203.954000    38.948000  546238.648000        1136.000000   \n",
              "std            115.113174     9.140287  257063.005276         611.864673   \n",
              "min              0.000000    19.000000  100804.000000         500.000000   \n",
              "25%            115.750000    32.000000  335980.250000         500.000000   \n",
              "50%            199.500000    38.000000  533135.000000        1000.000000   \n",
              "75%            276.250000    44.000000  759099.750000        2000.000000   \n",
              "max            479.000000    64.000000  999435.000000        2000.000000   \n",
              "\n",
              "       policy_annual_premium  umbrella_limit    insured_zip  capital-gains  \\\n",
              "count            1000.000000    1.000000e+03    1000.000000    1000.000000   \n",
              "mean             1256.406150    1.101000e+06  501214.488000   25126.100000   \n",
              "std               244.167395    2.297407e+06   71701.610941   27872.187708   \n",
              "min               433.330000   -1.000000e+06  430104.000000       0.000000   \n",
              "25%              1089.607500    0.000000e+00  448404.500000       0.000000   \n",
              "50%              1257.200000    0.000000e+00  466445.500000       0.000000   \n",
              "75%              1415.695000    0.000000e+00  603251.000000   51025.000000   \n",
              "max              2047.590000    1.000000e+07  620962.000000  100500.000000   \n",
              "\n",
              "        capital-loss  incident_hour_of_the_day  number_of_vehicles_involved  \\\n",
              "count    1000.000000               1000.000000                   1000.00000   \n",
              "mean   -26793.700000                 11.644000                      1.83900   \n",
              "std     28104.096686                  6.951373                      1.01888   \n",
              "min   -111100.000000                  0.000000                      1.00000   \n",
              "25%    -51500.000000                  6.000000                      1.00000   \n",
              "50%    -23250.000000                 12.000000                      1.00000   \n",
              "75%         0.000000                 17.000000                      3.00000   \n",
              "max         0.000000                 23.000000                      4.00000   \n",
              "\n",
              "       bodily_injuries    witnesses  total_claim_amount  injury_claim  \\\n",
              "count      1000.000000  1000.000000          1000.00000   1000.000000   \n",
              "mean          0.992000     1.487000         52761.94000   7433.420000   \n",
              "std           0.820127     1.111335         26401.53319   4880.951853   \n",
              "min           0.000000     0.000000           100.00000      0.000000   \n",
              "25%           0.000000     1.000000         41812.50000   4295.000000   \n",
              "50%           1.000000     1.000000         58055.00000   6775.000000   \n",
              "75%           2.000000     2.000000         70592.50000  11305.000000   \n",
              "max           2.000000     3.000000        114920.00000  21450.000000   \n",
              "\n",
              "       property_claim  vehicle_claim    auto_year  fraud_reported  _c39  \n",
              "count     1000.000000    1000.000000  1000.000000     1000.000000   0.0  \n",
              "mean      7399.570000   37928.950000  2005.103000        0.247000   NaN  \n",
              "std       4824.726179   18886.252893     6.015861        0.431483   NaN  \n",
              "min          0.000000      70.000000  1995.000000        0.000000   NaN  \n",
              "25%       4445.000000   30292.500000  2000.000000        0.000000   NaN  \n",
              "50%       6750.000000   42100.000000  2005.000000        0.000000   NaN  \n",
              "75%      10885.000000   50822.500000  2010.000000        0.000000   NaN  \n",
              "max      23670.000000   79560.000000  2015.000000        1.000000   NaN  "
            ]
          },
          "execution_count": 3,
          "metadata": {},
          "output_type": "execute_result"
        }
      ],
      "source": [
        "dataset['fraud_reported'] = dataset['fraud_reported'].replace(\"Y\", 1)\n",
        "dataset['fraud_reported'] = dataset['fraud_reported'].replace(\"N\", 0)\n",
        "dataset.describe()"
      ]
    },
    {
      "cell_type": "code",
      "execution_count": 4,
      "metadata": {
        "colab": {
          "base_uri": "https://localhost:8080/",
          "height": 280
        },
        "id": "3ul1WIydOqQ2",
        "outputId": "7f20f577-012c-4cdd-e60b-f5e40f5c1737"
      },
      "outputs": [
        {
          "data": {
            "text/plain": [
              "<AxesSubplot:xlabel='fraud_reported', ylabel='count'>"
            ]
          },
          "execution_count": 4,
          "metadata": {},
          "output_type": "execute_result"
        },
        {
          "data": {
            "image/png": "[encoded data removed]",
            "text/plain": [
              "<Figure size 432x288 with 1 Axes>"
            ]
          },
          "metadata": {
            "needs_background": "light"
          },
          "output_type": "display_data"
        }
      ],
      "source": [
        "Y = dataset['fraud_reported']\n",
        "X = dataset[['months_as_customer', 'age', 'policy_number', 'policy_deductable', 'policy_annual_premium', 'umbrella_limit', 'insured_zip', 'capital-gains', 'capital-loss', 'incident_hour_of_the_day', 'number_of_vehicles_involved', 'bodily_injuries', 'witnesses', 'total_claim_amount', 'injury_claim', 'property_claim', 'vehicle_claim', 'auto_year']] \n",
        "seaborninstance.countplot(x = 'fraud_reported', data = dataset, palette = 'hls')"
      ]
    },
    {
      "cell_type": "code",
      "execution_count": 5,
      "metadata": {
        "id": "-wKMkU1uOzP_"
      },
      "outputs": [],
      "source": [
        "X_train, X_test, Y_train, Y_test = train_test_split(X,Y, test_size=0.2, random_state=0)"
      ]
    },
    {
      "cell_type": "code",
      "execution_count": 6,
      "metadata": {
        "colab": {
          "base_uri": "https://localhost:8080/",
          "height": 121
        },
        "id": "K4vv9uy5O1Y6",
        "outputId": "8bece15c-1544-4e63-c9c6-435b95bcc0ef"
      },
      "outputs": [
        {
          "ename": "NameError",
          "evalue": "name 'metrics' is not defined",
          "output_type": "error",
          "traceback": [
            "\u001b[1;31m---------------------------------------------------------------------------\u001b[0m",
            "\u001b[1;31mNameError\u001b[0m                                 Traceback (most recent call last)",
            "\u001b[1;32m~\\AppData\\Local\\Temp/ipykernel_5532/1683066588.py\u001b[0m in \u001b[0;36m<module>\u001b[1;34m\u001b[0m\n\u001b[0;32m      3\u001b[0m \u001b[0mY_predDTC\u001b[0m \u001b[1;33m=\u001b[0m \u001b[0mtree\u001b[0m\u001b[1;33m.\u001b[0m\u001b[0mpredict\u001b[0m\u001b[1;33m(\u001b[0m\u001b[0mX_test\u001b[0m\u001b[1;33m)\u001b[0m\u001b[1;33m\u001b[0m\u001b[1;33m\u001b[0m\u001b[0m\n\u001b[0;32m      4\u001b[0m \u001b[0mdf\u001b[0m \u001b[1;33m=\u001b[0m \u001b[0mpd\u001b[0m\u001b[1;33m.\u001b[0m\u001b[0mDataFrame\u001b[0m\u001b[1;33m(\u001b[0m\u001b[1;33m{\u001b[0m\u001b[1;34m'Actual'\u001b[0m\u001b[1;33m:\u001b[0m \u001b[0mY_test\u001b[0m\u001b[1;33m,\u001b[0m \u001b[1;34m'Predicted'\u001b[0m\u001b[1;33m:\u001b[0m \u001b[0mY_predDTC\u001b[0m\u001b[1;33m}\u001b[0m\u001b[1;33m)\u001b[0m\u001b[1;33m\u001b[0m\u001b[1;33m\u001b[0m\u001b[0m\n\u001b[1;32m----> 5\u001b[1;33m \u001b[0mprint\u001b[0m\u001b[1;33m(\u001b[0m\u001b[0mmetrics\u001b[0m\u001b[1;33m.\u001b[0m\u001b[0mclassification_report\u001b[0m\u001b[1;33m(\u001b[0m\u001b[0mY_test\u001b[0m\u001b[1;33m,\u001b[0m \u001b[0mY_predDTC\u001b[0m\u001b[1;33m)\u001b[0m\u001b[1;33m)\u001b[0m\u001b[1;33m\u001b[0m\u001b[1;33m\u001b[0m\u001b[0m\n\u001b[0m",
            "\u001b[1;31mNameError\u001b[0m: name 'metrics' is not defined"
          ]
        }
      ],
      "source": [
        "tree = DecisionTreeClassifier(random_state=0)\n",
        "tree.fit(X_train, Y_train)\n",
        "Y_predDTC = tree.predict(X_test)\n",
        "df = pd.DataFrame({'Actual': Y_test, 'Predicted': Y_predDTC})\n",
        "print(metrics.classification_report(Y_test, Y_predDTC))"
      ]
    },
    {
      "cell_type": "code",
      "execution_count": null,
      "metadata": {
        "colab": {
          "base_uri": "https://localhost:8080/",
          "height": 156
        },
        "id": "17dYqNUpO3fq",
        "outputId": "fdaef2b4-ef18-4190-d2ae-c497ac7088a4"
      },
      "outputs": [
        {
          "name": "stdout",
          "output_type": "stream",
          "text": [
            "              precision    recall  f1-score   support\n",
            "\n",
            "           0       0.71      0.99      0.83       143\n",
            "           1       0.00      0.00      0.00        57\n",
            "\n",
            "    accuracy                           0.71       200\n",
            "   macro avg       0.36      0.50      0.42       200\n",
            "weighted avg       0.51      0.71      0.59       200\n",
            "\n"
          ]
        },
        {
          "name": "stderr",
          "output_type": "stream",
          "text": [
            "C:\\Anaconda\\lib\\site-packages\\sklearn\\linear_model\\_logistic.py:763: ConvergenceWarning: lbfgs failed to converge (status=1):\n",
            "STOP: TOTAL NO. of ITERATIONS REACHED LIMIT.\n",
            "\n",
            "Increase the number of iterations (max_iter) or scale the data as shown in:\n",
            "    https://scikit-learn.org/stable/modules/preprocessing.html\n",
            "Please also refer to the documentation for alternative solver options:\n",
            "    https://scikit-learn.org/stable/modules/linear_model.html#logistic-regression\n",
            "  n_iter_i = _check_optimize_result(\n"
          ]
        }
      ],
      "source": [
        "logreg = LogisticRegression()\n",
        "logreg.fit(X_train, Y_train)\n",
        "\n",
        "Y_predLR = logreg.predict(X_test)\n",
        "\n",
        "print(classification_report(Y_test, Y_predLR))\n"
      ]
    },
    {
      "cell_type": "code",
      "execution_count": null,
      "metadata": {
        "colab": {
          "base_uri": "https://localhost:8080/",
          "height": 415
        },
        "id": "mEGqZUTAO-Jy",
        "outputId": "0efcd98b-3908-4610-acf2-2cc9e4b4e0c2"
      },
      "outputs": [
        {
          "name": "stdout",
          "output_type": "stream",
          "text": [
            "              precision    recall  f1-score   support\n",
            "\n",
            "           0       0.71      1.00      0.83       143\n",
            "           1       0.00      0.00      0.00        57\n",
            "\n",
            "    accuracy                           0.71       200\n",
            "   macro avg       0.36      0.50      0.42       200\n",
            "weighted avg       0.51      0.71      0.60       200\n",
            "\n"
          ]
        },
        {
          "name": "stderr",
          "output_type": "stream",
          "text": [
            "C:\\Anaconda\\lib\\site-packages\\sklearn\\metrics\\_classification.py:1248: UndefinedMetricWarning: Precision and F-score are ill-defined and being set to 0.0 in labels with no predicted samples. Use `zero_division` parameter to control this behavior.\n",
            "  _warn_prf(average, modifier, msg_start, len(result))\n",
            "C:\\Anaconda\\lib\\site-packages\\sklearn\\metrics\\_classification.py:1248: UndefinedMetricWarning: Precision and F-score are ill-defined and being set to 0.0 in labels with no predicted samples. Use `zero_division` parameter to control this behavior.\n",
            "  _warn_prf(average, modifier, msg_start, len(result))\n",
            "C:\\Anaconda\\lib\\site-packages\\sklearn\\metrics\\_classification.py:1248: UndefinedMetricWarning: Precision and F-score are ill-defined and being set to 0.0 in labels with no predicted samples. Use `zero_division` parameter to control this behavior.\n",
            "  _warn_prf(average, modifier, msg_start, len(result))\n"
          ]
        }
      ],
      "source": [
        "forest = RandomForestClassifier(n_estimators=200)\n",
        "forest.fit(X_train, Y_train)\n",
        "Y_predRFC = forest.predict(X_test)\n",
        "print(metrics.classification_report(Y_test, Y_predRFC))"
      ]
    },
    {
      "cell_type": "code",
      "execution_count": null,
      "metadata": {
        "id": "03Jw2F2QPIWq"
      },
      "outputs": [
        {
          "name": "stdout",
          "output_type": "stream",
          "text": [
            "              precision    recall  f1-score   support\n",
            "\n",
            "           0       0.96      0.15      0.27       143\n",
            "           1       0.32      0.98      0.48        57\n",
            "\n",
            "    accuracy                           0.39       200\n",
            "   macro avg       0.64      0.57      0.37       200\n",
            "weighted avg       0.77      0.39      0.33       200\n",
            "\n"
          ]
        }
      ],
      "source": [
        "sgd = SGDClassifier(loss='modified_huber',shuffle=True,random_state=101)\n",
        "sgd.fit(X_train, Y_train)\n",
        "Y_predSGDC =  sgd.predict(X_test)\n",
        "print(classification_report(Y_test, Y_predSGDC))"
      ]
    },
    {
      "cell_type": "code",
      "execution_count": null,
      "metadata": {},
      "outputs": [
        {
          "name": "stdout",
          "output_type": "stream",
          "text": [
            "              precision    recall  f1-score   support\n",
            "\n",
            "           0       0.71      0.91      0.80       143\n",
            "           1       0.28      0.09      0.13        57\n",
            "\n",
            "    accuracy                           0.68       200\n",
            "   macro avg       0.50      0.50      0.47       200\n",
            "weighted avg       0.59      0.68      0.61       200\n",
            "\n"
          ]
        }
      ],
      "source": [
        "knn = KNeighborsClassifier(n_neighbors=5)\n",
        "knn.fit(X_train, Y_train)\n",
        "Y_predKNN =  knn.predict(X_test)\n",
        "\n",
        "print(classification_report(Y_test, Y_predKNN))\n"
      ]
    }
  ],
  "metadata": {
    "colab": {
      "collapsed_sections": [],
      "name": "InsuranceFraud.ipynb",
      "provenance": []
    },
    "kernelspec": {
      "display_name": "Python 3",
      "name": "python3"
    },
    "language_info": {
      "codemirror_mode": {
        "name": "ipython",
        "version": 3
      },
      "file_extension": ".py",
      "mimetype": "text/x-python",
      "name": "python",
      "nbconvert_exporter": "python",
      "pygments_lexer": "ipython3",
      "version": "3.9.7"
    }
  },
  "nbformat": 4,
  "nbformat_minor": 0
}
